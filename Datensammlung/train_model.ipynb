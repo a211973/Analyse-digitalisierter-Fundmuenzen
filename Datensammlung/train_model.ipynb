{
  "nbformat": 4,
  "nbformat_minor": 0,
  "metadata": {
    "colab": {
      "provenance": []
    },
    "kernelspec": {
      "name": "python3",
      "display_name": "Python 3"
    },
    "language_info": {
      "name": "python"
    }
  },
  "cells": [
    {
      "cell_type": "code",
      "execution_count": null,
      "metadata": {
        "id": "GacnF0RI6PN9"
      },
      "outputs": [],
      "source": [
        "def train_model(features):\n",
        "    # Initialize the OneClassSVM model with 'auto' gamma\n",
        "    # OneClassSVM is used for anomaly detection tasks\n",
        "    classifier = OneClassSVM(gamma='auto')\n",
        "\n",
        "    # Train the classifier with the extracted features\n",
        "    classifier.fit(features)\n",
        "\n",
        "    # Return the trained classifier\n",
        "    return classifier\n"
      ]
    }
  ]
}
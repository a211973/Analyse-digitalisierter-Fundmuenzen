{
  "nbformat": 4,
  "nbformat_minor": 0,
  "metadata": {
    "colab": {
      "provenance": []
    },
    "kernelspec": {
      "name": "python3",
      "display_name": "Python 3"
    },
    "language_info": {
      "name": "python"
    }
  },
  "cells": [
    {
      "cell_type": "code",
      "execution_count": null,
      "metadata": {
        "id": "GacnF0RI6PN9"
      },
      "outputs": [],
      "source": [
        "def initialize_model():\n",
        "    # Load the MobileNetV2 model pre-trained on ImageNet data\n",
        "    # Exclude the top classification layer and specify the input shape\n",
        "    base_model = tf.keras.applications.MobileNetV2(weights='imagenet', include_top=False, input_shape=(224, 224, 3))\n",
        "\n",
        "    # Add a GlobalAveragePooling2D layer to reduce the dimensions of the feature maps\n",
        "    global_average_layer = tf.keras.layers.GlobalAveragePooling2D()\n",
        "\n",
        "    # Create a new Sequential model that includes the base model and the pooling layer\n",
        "    model = tf.keras.Sequential([\n",
        "        base_model,\n",
        "        global_average_layer\n",
        "    ])\n",
        "\n",
        "    # Return the initialized model\n",
        "    return model\n"
      ]
    }
  ]
}
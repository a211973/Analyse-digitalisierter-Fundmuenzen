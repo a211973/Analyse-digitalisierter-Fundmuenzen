{
  "nbformat": 4,
  "nbformat_minor": 0,
  "metadata": {
    "colab": {
      "provenance": []
    },
    "kernelspec": {
      "name": "python3",
      "display_name": "Python 3"
    },
    "language_info": {
      "name": "python"
    }
  },
  "cells": [
    {
      "cell_type": "code",
      "execution_count": null,
      "metadata": {
        "id": "GacnF0RI6PN9"
      },
      "outputs": [],
      "source": [
        "def extract_features(model, data_dir='images'):\n",
        "    # Initialize an empty list to store the extracted features\n",
        "    features = []\n",
        "\n",
        "    # Define valid image file extensions\n",
        "    valid_extensions = ['.jpg', '.jpeg', '.png', '.tif']\n",
        "\n",
        "    # Iterate through the directory structure starting at `data_dir`\n",
        "    for root, _, files in os.walk(data_dir):\n",
        "        for file in files:\n",
        "            # Check if the file is an image by comparing its extension\n",
        "            if file.lower().endswith(tuple(valid_extensions)):\n",
        "                # Construct the full path to the image file\n",
        "                img_path = os.path.join(root, file)\n",
        "\n",
        "                # Print the path of the image being processed\n",
        "                print(f\"Processing Image: {img_path}\")\n",
        "\n",
        "                # Process and preprocess the image\n",
        "                processed_img = process_image(img_path)\n",
        "\n",
        "                # Use the model to predict the features of the processed image\n",
        "                # Expand the dimensions of the image array to fit the model input\n",
        "                # Flatten the output to convert it into a one-dimensional array\n",
        "                feature = model.predict(np.expand_dims(processed_img, axis=0)).flatten()\n",
        "\n",
        "                # Add the extracted features to the features list\n",
        "                features.append(feature)\n",
        "\n",
        "    # Convert the list of features into a NumPy array and return it\n",
        "    return np.array(features)"
      ]
    }
  ]
}
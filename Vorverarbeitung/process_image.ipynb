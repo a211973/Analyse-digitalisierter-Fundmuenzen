{
  "nbformat": 4,
  "nbformat_minor": 0,
  "metadata": {
    "colab": {
      "provenance": []
    },
    "kernelspec": {
      "name": "python3",
      "display_name": "Python 3"
    },
    "language_info": {
      "name": "python"
    }
  },
  "cells": [
    {
      "cell_type": "code",
      "execution_count": null,
      "metadata": {
        "id": "GacnF0RI6PN9"
      },
      "outputs": [],
      "source": [
        "def process_image(image_path):\n",
        "    # Open the image file from the specified path\n",
        "    image = Image.open(image_path)\n",
        "\n",
        "    # Convert the image to RGB mode if it is not already in RGB\n",
        "    if image.mode != 'RGB':\n",
        "        image = image.convert('RGB')\n",
        "\n",
        "    # Resize the image to 224x224 pixels, which is the input size for MobileNetV2\n",
        "    image_resized = image.resize((224, 224))\n",
        "\n",
        "    # Convert the image to a numpy array\n",
        "    image_array = np.array(image_resized)\n",
        "\n",
        "    # Preprocess the image using MobileNetV2's preprocessing function\n",
        "    # This step scales the pixel values in the image for the model\n",
        "    image_preprocessed = tf.keras.applications.mobilenet_v2.preprocess_input(image_array)\n",
        "\n",
        "    # Return the preprocessed image data\n",
        "    return image_preprocessed\n"
      ]
    }
  ]
}